{
 "cells": [
  {
   "cell_type": "markdown",
   "metadata": {},
   "source": [
    "# Eddington parameter estimation"
   ]
  },
  {
   "cell_type": "code",
   "execution_count": 1,
   "metadata": {},
   "outputs": [
    {
     "name": "stderr",
     "output_type": "stream",
     "text": [
      "/Users/edy/lib/build/anaconda/lib/python3.6/importlib/_bootstrap.py:219: RuntimeWarning: numpy.dtype size changed, may indicate binary incompatibility. Expected 96, got 88\n",
      "  return f(*args, **kwds)\n",
      "/Users/edy/lib/build/anaconda/lib/python3.6/importlib/_bootstrap.py:219: RuntimeWarning: numpy.dtype size changed, may indicate binary incompatibility. Expected 96, got 88\n",
      "  return f(*args, **kwds)\n"
     ]
    }
   ],
   "source": [
    "import scipy.stats\n",
    "import numpy as np\n",
    "import pandas as pd\n",
    "import matplotlib.pyplot as plt\n",
    "import pint\n",
    "import ipywidgets\n",
    "%matplotlib inline"
   ]
  },
  {
   "cell_type": "code",
   "execution_count": 2,
   "metadata": {},
   "outputs": [],
   "source": [
    "ur = pint.UnitRegistry()"
   ]
  },
  {
   "cell_type": "markdown",
   "metadata": {},
   "source": [
    "## Problem setup"
   ]
  },
  {
   "cell_type": "code",
   "execution_count": 3,
   "metadata": {},
   "outputs": [],
   "source": [
    "M_sol = 1.989*1e30\n",
    "theta_GR = 1.75 * ur.arcsec"
   ]
  },
  {
   "cell_type": "code",
   "execution_count": 4,
   "metadata": {},
   "outputs": [
    {
     "data": {
      "text/html": [
       "1.75 arcsecond"
      ],
      "text/latex": [
       "$1.75\\ \\mathrm{arcsecond}$"
      ],
      "text/plain": [
       "<Quantity(1.75, 'arcsecond')>"
      ]
     },
     "execution_count": 4,
     "metadata": {},
     "output_type": "execute_result"
    }
   ],
   "source": [
    "theta_GR"
   ]
  },
  {
   "cell_type": "markdown",
   "metadata": {},
   "source": [
    "Bending angle:\n",
    "\n",
    "\\begin{equation}\n",
    "    \\theta\n",
    "    =\n",
    "    \\frac{\\alpha G M}{r c^{2}}\n",
    "\\end{equation}\n",
    "\n",
    "- $\\alpha = 2$: Newtonian\n",
    "- $\\alpha = 4$: GR"
   ]
  },
  {
   "cell_type": "markdown",
   "metadata": {},
   "source": [
    "### Data model\n",
    "\n",
    "\\begin{equation}\n",
    "\\begin{aligned}\n",
    "    Dx &= a x + b y + c + \\alpha E_{x} \\\\\n",
    "    Dy &= d x + e y + f + \\alpha E_{y}\n",
    "\\end{aligned}\n",
    "\\end{equation}\n",
    "\n",
    "where:\n",
    "- $x$, $y$: coordinates of the stars\n",
    "- $E_{x}$, $E_{y}$: coefficients of the gravitational displacement\n",
    "- $c$, $f$: corrections to zero\n",
    "- $a$, $e$: differences of scale value (caused be e.g. change in $T$)\n",
    "- $b$, $d$: depend on the orientiation of the two plates\n",
    "- $\\alpha$: deflection at unit distance, i.e (50' from the Sun's centre)\n",
    "\n",
    "\n",
    "**Parameter of Interest (POI):**\n",
    "- $\\alpha$\n",
    "\n",
    "**Nuisance parameters (NP):**\n",
    "- $a$, $b$, $c$, $d$, $e$, $f$"
   ]
  },
  {
   "cell_type": "markdown",
   "metadata": {},
   "source": [
    "Errors on the displacement:\n",
    "- 0.05"
   ]
  },
  {
   "cell_type": "markdown",
   "metadata": {},
   "source": [
    "Parameter vector:\n",
    "\n",
    "\\begin{equation}\n",
    "    \\mathbf{\\theta} = (\\alpha, a,b,c,d,e,f)\n",
    "\\end{equation}"
   ]
  },
  {
   "cell_type": "markdown",
   "metadata": {},
   "source": [
    "Likelihood: \n",
    "\\begin{equation}\n",
    "    \\mathcal{L} (\\theta, all data)\n",
    "    =\n",
    "    \\prod_{i} \\mathcal{L}_{i} (\\theta, x_{i}, y_{i}, Ex_{i}, Ey_{i}, Dx_{i}, Dy_{i})\n",
    "\\end{equation}"
   ]
  },
  {
   "cell_type": "markdown",
   "metadata": {},
   "source": [
    "Constructing required functions"
   ]
  },
  {
   "cell_type": "code",
   "execution_count": 5,
   "metadata": {},
   "outputs": [],
   "source": [
    "def calc_Dx(x,y,alpha,a,b,c,Ex):\n",
    "    Dx = a*x + b*y + c + alpha*Ex\n",
    "    return Dx"
   ]
  },
  {
   "cell_type": "code",
   "execution_count": 6,
   "metadata": {},
   "outputs": [],
   "source": [
    "def calc_Dy(x,y,alpha,d,e,f,Ey):\n",
    "    Dy = d*x + e*y + f + alpha*Ey\n",
    "    return Dy"
   ]
  },
  {
   "cell_type": "code",
   "execution_count": 101,
   "metadata": {},
   "outputs": [],
   "source": [
    "def log_likelihood_one_star(par,x,y,Ex,Ey,Dx_obs,Dy_obs,error=0.05):\n",
    "    \n",
    "    alpha = par[0]\n",
    "    a = par[1]\n",
    "    b = par[2]\n",
    "    c = par[3]\n",
    "    d = par[4]\n",
    "    e = par[5]\n",
    "    f = par[6]\n",
    "    Dx_mean = calc_Dx(x,y,alpha,a,b,c,Ex)\n",
    "    Dy_mean = calc_Dy(x,y,alpha,d,e,f,Ey)\n",
    "    log_p_Dx = scipy.stats.norm.logpdf(x=Dx_obs, loc=Dx_mean, scale=error)\n",
    "    log_p_Dy = scipy.stats.norm.logpdf(x=Dy_obs, loc=Dy_mean, scale=error)\n",
    "    likelihood = log_p_Dx + log_p_Dy\n",
    "    \n",
    "    return likelihood"
   ]
  },
  {
   "cell_type": "code",
   "execution_count": 102,
   "metadata": {},
   "outputs": [],
   "source": [
    "def log_likelihood_combined(par, error=0.05):\n",
    "    \n",
    "    ll_comb = 0.0\n",
    "    for index, star in stars.iterrows():\n",
    "        x = star['x']\n",
    "        y = star['y']\n",
    "        Ex = star['Ex']\n",
    "        Ey = star['Ey']\n",
    "        Dx = star['Dx_obs']\n",
    "        Dy = star['Dy_obs']\n",
    "        ll_star  = log_likelihood_one_star(par,x,y,Ex,Ey,Dx_obs,Dy_obs,error)\n",
    "        ll_comb += l_star\n",
    "        \n",
    "    return ll_comb"
   ]
  },
  {
   "cell_type": "code",
   "execution_count": 103,
   "metadata": {},
   "outputs": [],
   "source": [
    "def create_df_with_Dx_Dy_preds(df_original, par, error=0.05):\n",
    "    \n",
    "    df = df_original.copy()\n",
    "\n",
    "    df['Dx_pred'] = 0.0\n",
    "    df['Dy_pred'] = 0.0\n",
    "    df['log_likelihood'] = 0.0\n",
    "        \n",
    "    for index, star in df.iterrows():\n",
    "        \n",
    "        x = star['x']\n",
    "        y = star['y']\n",
    "        Ex = star['Ex']\n",
    "        Ey = star['Ey']\n",
    "        Dx_obs = star['Dx_obs']\n",
    "        Dy_obs = star['Dy_obs']\n",
    "\n",
    "        alpha = par[0]\n",
    "        a = par[1]\n",
    "        b = par[2]\n",
    "        c = par[3]\n",
    "        d = par[4]\n",
    "        e = par[5]\n",
    "        f = par[6]\n",
    "\n",
    "        Dx_pred_ = calc_Dx(x,y,alpha,a,b,c,Ex)\n",
    "        Dy_pred_ = calc_Dy(x,y,alpha,d,e,f,Ey)\n",
    "\n",
    "        df.at[index, 'Dx_pred'] = Dx_pred_\n",
    "        df.at[index, 'Dy_pred'] = Dy_pred_\n",
    "        \n",
    "        log_likelihood = log_likelihood_one_star(par, x, y, Ex, Ey, Dx_obs, Dy_obs, error)\n",
    "        print(log_likelihood)\n",
    "        df.at[index, 'log_likelihood'] = log_likelihood\n",
    "        \n",
    "        #df.iloc[idx]['Dx_pred'] = Dx_pred\n",
    "        #df.iloc[idx]['Dy_pred'] = Dy_pred\n",
    "        \n",
    "    return df"
   ]
  },
  {
   "cell_type": "markdown",
   "metadata": {},
   "source": [
    "### Loading in data"
   ]
  },
  {
   "cell_type": "code",
   "execution_count": 104,
   "metadata": {},
   "outputs": [],
   "source": [
    "stars = pd.read_csv('eddington.dat', delim_whitespace=True, header=1, skiprows=0)"
   ]
  },
  {
   "cell_type": "markdown",
   "metadata": {},
   "source": [
    "Correcting $Dx$ and $Dy$"
   ]
  },
  {
   "cell_type": "code",
   "execution_count": 105,
   "metadata": {},
   "outputs": [],
   "source": [
    "stars['Dx_obs'] = stars['Dx_obs_uncorrected']+1.5\n",
    "stars['Dy_obs'] = stars['Dy_obs_uncorrected']+1.324"
   ]
  },
  {
   "cell_type": "code",
   "execution_count": 106,
   "metadata": {},
   "outputs": [
    {
     "data": {
      "text/html": [
       "<div>\n",
       "<style scoped>\n",
       "    .dataframe tbody tr th:only-of-type {\n",
       "        vertical-align: middle;\n",
       "    }\n",
       "\n",
       "    .dataframe tbody tr th {\n",
       "        vertical-align: top;\n",
       "    }\n",
       "\n",
       "    .dataframe thead th {\n",
       "        text-align: right;\n",
       "    }\n",
       "</style>\n",
       "<table border=\"1\" class=\"dataframe\">\n",
       "  <thead>\n",
       "    <tr style=\"text-align: right;\">\n",
       "      <th></th>\n",
       "      <th>x</th>\n",
       "      <th>y</th>\n",
       "      <th>Ex</th>\n",
       "      <th>Ey</th>\n",
       "      <th>Dx_obs_uncorrected</th>\n",
       "      <th>Dy_obs_uncorrected</th>\n",
       "      <th>Dx_obs</th>\n",
       "      <th>Dy_obs</th>\n",
       "    </tr>\n",
       "  </thead>\n",
       "  <tbody>\n",
       "    <tr>\n",
       "      <th>0</th>\n",
       "      <td>-1.261</td>\n",
       "      <td>-0.160</td>\n",
       "      <td>-0.587</td>\n",
       "      <td>0.036</td>\n",
       "      <td>-1.416</td>\n",
       "      <td>-1.324</td>\n",
       "      <td>0.084</td>\n",
       "      <td>0.000</td>\n",
       "    </tr>\n",
       "    <tr>\n",
       "      <th>1</th>\n",
       "      <td>-0.160</td>\n",
       "      <td>-1.107</td>\n",
       "      <td>-0.557</td>\n",
       "      <td>-0.789</td>\n",
       "      <td>-1.221</td>\n",
       "      <td>-1.312</td>\n",
       "      <td>0.279</td>\n",
       "      <td>0.012</td>\n",
       "    </tr>\n",
       "    <tr>\n",
       "      <th>2</th>\n",
       "      <td>0.334</td>\n",
       "      <td>0.472</td>\n",
       "      <td>-0.186</td>\n",
       "      <td>1.336</td>\n",
       "      <td>-1.054</td>\n",
       "      <td>-0.944</td>\n",
       "      <td>0.446</td>\n",
       "      <td>0.380</td>\n",
       "    </tr>\n",
       "    <tr>\n",
       "      <th>3</th>\n",
       "      <td>0.348</td>\n",
       "      <td>0.360</td>\n",
       "      <td>-0.222</td>\n",
       "      <td>1.574</td>\n",
       "      <td>-1.079</td>\n",
       "      <td>-0.862</td>\n",
       "      <td>0.421</td>\n",
       "      <td>0.462</td>\n",
       "    </tr>\n",
       "    <tr>\n",
       "      <th>4</th>\n",
       "      <td>0.587</td>\n",
       "      <td>1.099</td>\n",
       "      <td>0.080</td>\n",
       "      <td>0.726</td>\n",
       "      <td>-1.012</td>\n",
       "      <td>-0.932</td>\n",
       "      <td>0.488</td>\n",
       "      <td>0.392</td>\n",
       "    </tr>\n",
       "    <tr>\n",
       "      <th>5</th>\n",
       "      <td>0.860</td>\n",
       "      <td>1.321</td>\n",
       "      <td>0.158</td>\n",
       "      <td>0.589</td>\n",
       "      <td>-0.999</td>\n",
       "      <td>-0.948</td>\n",
       "      <td>0.501</td>\n",
       "      <td>0.376</td>\n",
       "    </tr>\n",
       "    <tr>\n",
       "      <th>6</th>\n",
       "      <td>1.079</td>\n",
       "      <td>-0.328</td>\n",
       "      <td>1.540</td>\n",
       "      <td>-0.156</td>\n",
       "      <td>-0.733</td>\n",
       "      <td>-1.019</td>\n",
       "      <td>0.767</td>\n",
       "      <td>0.305</td>\n",
       "    </tr>\n",
       "  </tbody>\n",
       "</table>\n",
       "</div>"
      ],
      "text/plain": [
       "       x      y     Ex     Ey  Dx_obs_uncorrected  Dy_obs_uncorrected  Dx_obs  \\\n",
       "0 -1.261 -0.160 -0.587  0.036              -1.416              -1.324   0.084   \n",
       "1 -0.160 -1.107 -0.557 -0.789              -1.221              -1.312   0.279   \n",
       "2  0.334  0.472 -0.186  1.336              -1.054              -0.944   0.446   \n",
       "3  0.348  0.360 -0.222  1.574              -1.079              -0.862   0.421   \n",
       "4  0.587  1.099  0.080  0.726              -1.012              -0.932   0.488   \n",
       "5  0.860  1.321  0.158  0.589              -0.999              -0.948   0.501   \n",
       "6  1.079 -0.328  1.540 -0.156              -0.733              -1.019   0.767   \n",
       "\n",
       "   Dy_obs  \n",
       "0   0.000  \n",
       "1   0.012  \n",
       "2   0.380  \n",
       "3   0.462  \n",
       "4   0.392  \n",
       "5   0.376  \n",
       "6   0.305  "
      ]
     },
     "execution_count": 106,
     "metadata": {},
     "output_type": "execute_result"
    }
   ],
   "source": [
    "stars"
   ]
  },
  {
   "cell_type": "markdown",
   "metadata": {},
   "source": [
    "### Exploration"
   ]
  },
  {
   "cell_type": "markdown",
   "metadata": {},
   "source": [
    "#### Position of the stars $(x,y)$"
   ]
  },
  {
   "cell_type": "code",
   "execution_count": 107,
   "metadata": {},
   "outputs": [
    {
     "data": {
      "image/png": "[encoded data removed]",
      "text/plain": [
       "<Figure size 432x288 with 1 Axes>"
      ]
     },
     "metadata": {},
     "output_type": "display_data"
    }
   ],
   "source": [
    "f,a = plt.subplots()\n",
    "\n",
    "for idx,star in stars.iterrows():\n",
    "    label = \"star {}\".format(idx)\n",
    "    c = \"C{}\".format(idx)\n",
    "    x = star['x']\n",
    "    y = star['y']\n",
    "    a.scatter(x, y, label=label, c=c)\n",
    "    txt = \"{}\".format(idx)\n",
    "    a.text(x+0.1, y, txt, verticalalignment='center', horizontalalignment='center')\n",
    "    \n",
    "a.set_xlabel('x')\n",
    "a.set_ylabel('y');"
   ]
  },
  {
   "cell_type": "markdown",
   "metadata": {},
   "source": [
    "#### Deflections $(Dx,Dy)$"
   ]
  },
  {
   "cell_type": "code",
   "execution_count": 108,
   "metadata": {},
   "outputs": [
    {
     "data": {
      "image/png": "[encoded data removed]",
      "text/plain": [
       "<Figure size 432x288 with 1 Axes>"
      ]
     },
     "metadata": {},
     "output_type": "display_data"
    }
   ],
   "source": [
    "f,a = plt.subplots()\n",
    "\n",
    "for idx,star in stars.iterrows():\n",
    "    label = \"star {}\".format(idx)\n",
    "    c = \"C{}\".format(idx)\n",
    "    Dx_obs = star['Dx_obs']\n",
    "    Dy_obs = star['Dy_obs']\n",
    "    a.scatter(Dx_obs, Dy_obs, label=label, c=c)\n",
    "    txt = \"{}\".format(idx)\n",
    "    a.text(Dx_obs+0.05, Dy_obs, txt, verticalalignment='center', horizontalalignment='center')\n",
    "    \n",
    "a.set_xlabel('Dx')\n",
    "a.set_ylabel('Dy');"
   ]
  },
  {
   "cell_type": "markdown",
   "metadata": {},
   "source": [
    "### Testing a specific prediction"
   ]
  },
  {
   "cell_type": "code",
   "execution_count": 109,
   "metadata": {},
   "outputs": [],
   "source": [
    "par = (1.75/19.8, 0.0, 0.0, 0.0, 0.0, 0.0, 0.0)"
   ]
  },
  {
   "cell_type": "code",
   "execution_count": 110,
   "metadata": {},
   "outputs": [
    {
     "name": "stdout",
     "output_type": "stream",
     "text": [
      "0.4588164356522091\n",
      "-18.729489667041417\n",
      "-52.33678375182864\n",
      "-55.526617651430755\n",
      "-63.59994836768418\n",
      "-64.2747730399115\n",
      "-95.77571287640774\n"
     ]
    }
   ],
   "source": [
    "stars_with_pred = create_df_with_Dx_Dy_preds(stars, par)"
   ]
  },
  {
   "cell_type": "code",
   "execution_count": 111,
   "metadata": {},
   "outputs": [
    {
     "data": {
      "text/html": [
       "<div>\n",
       "<style scoped>\n",
       "    .dataframe tbody tr th:only-of-type {\n",
       "        vertical-align: middle;\n",
       "    }\n",
       "\n",
       "    .dataframe tbody tr th {\n",
       "        vertical-align: top;\n",
       "    }\n",
       "\n",
       "    .dataframe thead th {\n",
       "        text-align: right;\n",
       "    }\n",
       "</style>\n",
       "<table border=\"1\" class=\"dataframe\">\n",
       "  <thead>\n",
       "    <tr style=\"text-align: right;\">\n",
       "      <th></th>\n",
       "      <th>x</th>\n",
       "      <th>y</th>\n",
       "      <th>Ex</th>\n",
       "      <th>Ey</th>\n",
       "      <th>Dx_obs_uncorrected</th>\n",
       "      <th>Dy_obs_uncorrected</th>\n",
       "      <th>Dx_obs</th>\n",
       "      <th>Dy_obs</th>\n",
       "      <th>Dx_pred</th>\n",
       "      <th>Dy_pred</th>\n",
       "      <th>log_likelihood</th>\n",
       "    </tr>\n",
       "  </thead>\n",
       "  <tbody>\n",
       "    <tr>\n",
       "      <th>0</th>\n",
       "      <td>-1.261</td>\n",
       "      <td>-0.160</td>\n",
       "      <td>-0.587</td>\n",
       "      <td>0.036</td>\n",
       "      <td>-1.416</td>\n",
       "      <td>-1.324</td>\n",
       "      <td>0.084</td>\n",
       "      <td>0.000</td>\n",
       "      <td>-0.051881</td>\n",
       "      <td>0.003182</td>\n",
       "      <td>0.458816</td>\n",
       "    </tr>\n",
       "    <tr>\n",
       "      <th>1</th>\n",
       "      <td>-0.160</td>\n",
       "      <td>-1.107</td>\n",
       "      <td>-0.557</td>\n",
       "      <td>-0.789</td>\n",
       "      <td>-1.221</td>\n",
       "      <td>-1.312</td>\n",
       "      <td>0.279</td>\n",
       "      <td>0.012</td>\n",
       "      <td>-0.049230</td>\n",
       "      <td>-0.069735</td>\n",
       "      <td>-18.729490</td>\n",
       "    </tr>\n",
       "    <tr>\n",
       "      <th>2</th>\n",
       "      <td>0.334</td>\n",
       "      <td>0.472</td>\n",
       "      <td>-0.186</td>\n",
       "      <td>1.336</td>\n",
       "      <td>-1.054</td>\n",
       "      <td>-0.944</td>\n",
       "      <td>0.446</td>\n",
       "      <td>0.380</td>\n",
       "      <td>-0.016439</td>\n",
       "      <td>0.118081</td>\n",
       "      <td>-52.336784</td>\n",
       "    </tr>\n",
       "    <tr>\n",
       "      <th>3</th>\n",
       "      <td>0.348</td>\n",
       "      <td>0.360</td>\n",
       "      <td>-0.222</td>\n",
       "      <td>1.574</td>\n",
       "      <td>-1.079</td>\n",
       "      <td>-0.862</td>\n",
       "      <td>0.421</td>\n",
       "      <td>0.462</td>\n",
       "      <td>-0.019621</td>\n",
       "      <td>0.139116</td>\n",
       "      <td>-55.526618</td>\n",
       "    </tr>\n",
       "    <tr>\n",
       "      <th>4</th>\n",
       "      <td>0.587</td>\n",
       "      <td>1.099</td>\n",
       "      <td>0.080</td>\n",
       "      <td>0.726</td>\n",
       "      <td>-1.012</td>\n",
       "      <td>-0.932</td>\n",
       "      <td>0.488</td>\n",
       "      <td>0.392</td>\n",
       "      <td>0.007071</td>\n",
       "      <td>0.064167</td>\n",
       "      <td>-63.599948</td>\n",
       "    </tr>\n",
       "    <tr>\n",
       "      <th>5</th>\n",
       "      <td>0.860</td>\n",
       "      <td>1.321</td>\n",
       "      <td>0.158</td>\n",
       "      <td>0.589</td>\n",
       "      <td>-0.999</td>\n",
       "      <td>-0.948</td>\n",
       "      <td>0.501</td>\n",
       "      <td>0.376</td>\n",
       "      <td>0.013965</td>\n",
       "      <td>0.052058</td>\n",
       "      <td>-64.274773</td>\n",
       "    </tr>\n",
       "    <tr>\n",
       "      <th>6</th>\n",
       "      <td>1.079</td>\n",
       "      <td>-0.328</td>\n",
       "      <td>1.540</td>\n",
       "      <td>-0.156</td>\n",
       "      <td>-0.733</td>\n",
       "      <td>-1.019</td>\n",
       "      <td>0.767</td>\n",
       "      <td>0.305</td>\n",
       "      <td>0.136111</td>\n",
       "      <td>-0.013788</td>\n",
       "      <td>-95.775713</td>\n",
       "    </tr>\n",
       "  </tbody>\n",
       "</table>\n",
       "</div>"
      ],
      "text/plain": [
       "       x      y     Ex     Ey  Dx_obs_uncorrected  Dy_obs_uncorrected  Dx_obs  \\\n",
       "0 -1.261 -0.160 -0.587  0.036              -1.416              -1.324   0.084   \n",
       "1 -0.160 -1.107 -0.557 -0.789              -1.221              -1.312   0.279   \n",
       "2  0.334  0.472 -0.186  1.336              -1.054              -0.944   0.446   \n",
       "3  0.348  0.360 -0.222  1.574              -1.079              -0.862   0.421   \n",
       "4  0.587  1.099  0.080  0.726              -1.012              -0.932   0.488   \n",
       "5  0.860  1.321  0.158  0.589              -0.999              -0.948   0.501   \n",
       "6  1.079 -0.328  1.540 -0.156              -0.733              -1.019   0.767   \n",
       "\n",
       "   Dy_obs   Dx_pred   Dy_pred  log_likelihood  \n",
       "0   0.000 -0.051881  0.003182        0.458816  \n",
       "1   0.012 -0.049230 -0.069735      -18.729490  \n",
       "2   0.380 -0.016439  0.118081      -52.336784  \n",
       "3   0.462 -0.019621  0.139116      -55.526618  \n",
       "4   0.392  0.007071  0.064167      -63.599948  \n",
       "5   0.376  0.013965  0.052058      -64.274773  \n",
       "6   0.305  0.136111 -0.013788      -95.775713  "
      ]
     },
     "execution_count": 111,
     "metadata": {},
     "output_type": "execute_result"
    }
   ],
   "source": [
    "stars_with_pred"
   ]
  },
  {
   "cell_type": "markdown",
   "metadata": {},
   "source": [
    "Initializiation"
   ]
  },
  {
   "cell_type": "code",
   "execution_count": null,
   "metadata": {},
   "outputs": [],
   "source": [
    "par0 = (1.75/19.8, 0.0, 0.0, 0.0, 0.0, 0.0, 0.0)"
   ]
  },
  {
   "cell_type": "code",
   "execution_count": 116,
   "metadata": {},
   "outputs": [
    {
     "ename": "NameError",
     "evalue": "name 'l_star' is not defined",
     "output_type": "error",
     "traceback": [
      "\u001b[0;31m---------------------------------------------------------------------------\u001b[0m",
      "\u001b[0;31mNameError\u001b[0m                                 Traceback (most recent call last)",
      "\u001b[0;32m<ipython-input-116-7ba03f366659>\u001b[0m in \u001b[0;36m<module>\u001b[0;34m()\u001b[0m\n\u001b[0;32m----> 1\u001b[0;31m \u001b[0ml0\u001b[0m \u001b[0;34m=\u001b[0m \u001b[0mlog_likelihood_combined\u001b[0m\u001b[0;34m(\u001b[0m\u001b[0mpar\u001b[0m\u001b[0;34m)\u001b[0m\u001b[0;34m\u001b[0m\u001b[0m\n\u001b[0m",
      "\u001b[0;32m<ipython-input-102-d44bc73826a7>\u001b[0m in \u001b[0;36mlog_likelihood_combined\u001b[0;34m(par, error)\u001b[0m\n\u001b[1;32m     10\u001b[0m         \u001b[0mDy\u001b[0m \u001b[0;34m=\u001b[0m \u001b[0mstar\u001b[0m\u001b[0;34m[\u001b[0m\u001b[0;34m'Dy_obs'\u001b[0m\u001b[0;34m]\u001b[0m\u001b[0;34m\u001b[0m\u001b[0m\n\u001b[1;32m     11\u001b[0m         \u001b[0mll_star\u001b[0m  \u001b[0;34m=\u001b[0m \u001b[0mlog_likelihood_one_star\u001b[0m\u001b[0;34m(\u001b[0m\u001b[0mpar\u001b[0m\u001b[0;34m,\u001b[0m\u001b[0mx\u001b[0m\u001b[0;34m,\u001b[0m\u001b[0my\u001b[0m\u001b[0;34m,\u001b[0m\u001b[0mEx\u001b[0m\u001b[0;34m,\u001b[0m\u001b[0mEy\u001b[0m\u001b[0;34m,\u001b[0m\u001b[0mDx_obs\u001b[0m\u001b[0;34m,\u001b[0m\u001b[0mDy_obs\u001b[0m\u001b[0;34m,\u001b[0m\u001b[0merror\u001b[0m\u001b[0;34m)\u001b[0m\u001b[0;34m\u001b[0m\u001b[0m\n\u001b[0;32m---> 12\u001b[0;31m         \u001b[0mll_comb\u001b[0m \u001b[0;34m+=\u001b[0m \u001b[0ml_star\u001b[0m\u001b[0;34m\u001b[0m\u001b[0m\n\u001b[0m\u001b[1;32m     13\u001b[0m \u001b[0;34m\u001b[0m\u001b[0m\n\u001b[1;32m     14\u001b[0m     \u001b[0;32mreturn\u001b[0m \u001b[0mll_comb\u001b[0m\u001b[0;34m\u001b[0m\u001b[0m\n",
      "\u001b[0;31mNameError\u001b[0m: name 'l_star' is not defined"
     ]
    }
   ],
   "source": [
    "l0 = log_likelihood_combined(par)"
   ]
  },
  {
   "cell_type": "code",
   "execution_count": null,
   "metadata": {},
   "outputs": [],
   "source": [
    "def proposal_function(par):\n",
    "    \n",
    "    scipy.stats.multinomial()\n",
    "    "
   ]
  },
  {
   "cell_type": "code",
   "execution_count": null,
   "metadata": {},
   "outputs": [],
   "source": [
    "nsamples = 1e4\n",
    "\n",
    "likelihoods = []\n",
    "pars = []\n",
    "\n",
    "for iteration in range(nsamples):\n",
    "    \n",
    "    p = scipy.stats.uniform.rvs()\n",
    "    \n",
    "    \n",
    "    l_new = likelihood(par)\n",
    "    r = l_new/likelihood[iterarion]\n",
    "    \n",
    "    if p < r:\n",
    "        pass\n",
    "    else:\n",
    "        pass\n",
    "    \n",
    "    likelihoods.append(l_new)\n",
    "    pars.append(par_new)\n",
    "    "
   ]
  },
  {
   "cell_type": "code",
   "execution_count": null,
   "metadata": {},
   "outputs": [],
   "source": []
  }
 ],
 "metadata": {
  "kernelspec": {
   "display_name": "Python 3",
   "language": "python",
   "name": "python3"
  },
  "language_info": {
   "codemirror_mode": {
    "name": "ipython",
    "version": 3
   },
   "file_extension": ".py",
   "mimetype": "text/x-python",
   "name": "python",
   "nbconvert_exporter": "python",
   "pygments_lexer": "ipython3",
   "version": "3.6.6"
  }
 },
 "nbformat": 4,
 "nbformat_minor": 2
}
